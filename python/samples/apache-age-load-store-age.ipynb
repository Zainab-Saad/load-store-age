{
 "cells": [
  {
   "cell_type": "code",
   "execution_count": 1,
   "metadata": {},
   "outputs": [],
   "source": [
    "import age\n",
    "import age.LoadStoreAge.LoadAge as load_age, age.LoadStoreAge.StoreAge as store_age\n",
    "GRAPH_NAME = \"test_load_store_age\"\n",
    "DSN = \"host=127.0.0.1 port=5432 dbname=postgres user=postres password=12345\"\n",
    "# connect to postgreSQL database using AGE extension\n",
    "age_obj = age.Age()\n",
    "ag = age_obj.connect(graph=GRAPH_NAME, dsn= DSN)"
   ]
  },
  {
   "cell_type": "code",
   "execution_count": 2,
   "metadata": {},
   "outputs": [],
   "source": [
    "ag.execCypher('MATCH (u) DETACH DELETE u')\n",
    "# create test nodes, edges here\n",
    "total_edges = 4000\n",
    "for i in range(total_edges):\n",
    "    ag.execCypher('CREATE (n: VertexA {id: %s})-[e: EDGE {id: %s}]->(m: VertexB {id: %s})', params=(str(i), str(i), str(i)))\n",
    "\n",
    "\n",
    "ag.commit()"
   ]
  },
  {
   "cell_type": "code",
   "execution_count": 5,
   "metadata": {},
   "outputs": [],
   "source": [
    "store_age.load_labels_into_file(ag, '/home/zainab/load-store-age/python/samples/age_load/data/')"
   ]
  },
  {
   "cell_type": "code",
   "execution_count": 6,
   "metadata": {},
   "outputs": [],
   "source": [
    "store_age.load_edges_into_file(ag, '/home/zainab/load-store-age/python/samples/age_load/data/')\n"
   ]
  },
  {
   "cell_type": "code",
   "execution_count": 7,
   "metadata": {},
   "outputs": [],
   "source": [
    "ag.execCypher('MATCH (u) DETACH DELETE u')\n",
    "ag.commit()"
   ]
  },
  {
   "cell_type": "code",
   "execution_count": 8,
   "metadata": {},
   "outputs": [],
   "source": [
    "load_age.load_labels_from_file(ag, '/home/zainab/load-store-age/python/samples/age_load/data/VertexA.csv', 'VertexA')"
   ]
  },
  {
   "cell_type": "code",
   "execution_count": 9,
   "metadata": {},
   "outputs": [],
   "source": [
    "load_age.load_labels_from_file(ag, '/home/zainab/load-store-age/python/samples/age_load/data/VertexB.csv', 'VertexB')"
   ]
  },
  {
   "cell_type": "code",
   "execution_count": 10,
   "metadata": {},
   "outputs": [],
   "source": [
    "load_age.load_edges_from_file(ag, '/home/zainab/load-store-age/python/samples/age_load/data/EDGE.csv', 'EDGE')"
   ]
  },
  {
   "cell_type": "code",
   "execution_count": 11,
   "metadata": {},
   "outputs": [],
   "source": [
    "ag.execCypher('MATCH (u) DETACH DELETE u')\n",
    "# create test nodes, edges here\n",
    "total_edges = 4000\n",
    "for i in range(total_edges):\n",
    "    ag.execCypher('''\n",
    "                  CREATE (n: NodeA {key1: {\n",
    "        subkey1: {\n",
    "            subsubkey1: %s\n",
    "        }\n",
    "    }\n",
    "    })-[e: EDGE {id: %s,key1: {\n",
    "        subkey1: {\n",
    "            subsubkey1: %s\n",
    "        }\n",
    "    }}]->(m: NodeB {key3: {\n",
    "        subkey1: {\n",
    "            subsubkey1: %s\n",
    "        }}})\n",
    "    RETURN n''', params = (str(i),str(i),str(i),str(i),))\n",
    "\n",
    "\n",
    "ag.commit()"
   ]
  },
  {
   "cell_type": "code",
   "execution_count": 12,
   "metadata": {},
   "outputs": [],
   "source": [
    "store_age.load_labels_into_file(ag, '/home/zainab/load-store-age/python/samples/age_load/data/')"
   ]
  },
  {
   "cell_type": "code",
   "execution_count": 13,
   "metadata": {},
   "outputs": [],
   "source": [
    "store_age.load_edges_into_file(ag, '/home/zainab/load-store-age/python/samples/age_load/data/')"
   ]
  },
  {
   "cell_type": "code",
   "execution_count": 14,
   "metadata": {},
   "outputs": [],
   "source": [
    "ag.execCypher('MATCH (u) DETACH DELETE u')\n",
    "ag.commit()"
   ]
  },
  {
   "cell_type": "code",
   "execution_count": 15,
   "metadata": {},
   "outputs": [],
   "source": [
    "load_age.load_labels_from_file(ag, '/home/zainab/load-store-age/python/samples/age_load/data/NodeA.json', 'NodeA')"
   ]
  },
  {
   "cell_type": "code",
   "execution_count": 16,
   "metadata": {},
   "outputs": [],
   "source": [
    "load_age.load_labels_from_file(ag, '/home/zainab/load-store-age/python/samples/age_load/data/NodeB.json', 'NodeB')"
   ]
  },
  {
   "cell_type": "code",
   "execution_count": 18,
   "metadata": {},
   "outputs": [],
   "source": [
    "load_age.load_edges_from_file(ag, '/home/zainab/load-store-age/python/samples/age_load/data/EDGE.json', 'EDGE')"
   ]
  },
  {
   "cell_type": "code",
   "execution_count": 19,
   "metadata": {},
   "outputs": [],
   "source": [
    "ag.close()"
   ]
  }
 ],
 "metadata": {
  "kernelspec": {
   "display_name": "Python 3",
   "language": "python",
   "name": "python3"
  },
  "language_info": {
   "codemirror_mode": {
    "name": "ipython",
    "version": 3
   },
   "file_extension": ".py",
   "mimetype": "text/x-python",
   "name": "python",
   "nbconvert_exporter": "python",
   "pygments_lexer": "ipython3",
   "version": "3.10.6"
  },
  "orig_nbformat": 4
 },
 "nbformat": 4,
 "nbformat_minor": 2
}
